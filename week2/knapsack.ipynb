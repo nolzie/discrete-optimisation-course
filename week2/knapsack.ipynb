{
 "cells": [
  {
   "cell_type": "code",
   "execution_count": 1,
   "metadata": {},
   "outputs": [],
   "source": [
    "import numpy as np\n",
    "import pandas as pd\n"
   ]
  },
  {
   "cell_type": "code",
   "execution_count": 13,
   "metadata": {},
   "outputs": [],
   "source": [
    "def greedy_algorithm(k, weights, values):\n",
    "    remaining_cap = k\n",
    "    items_taken = []\n",
    "\n",
    "    while min(weights) < remaining_cap:\n",
    "        index = np.argmax(values)\n",
    "        items_taken.append([index, values[index], weights[index]])\n",
    "        remaining_cap -= weights[index]\n",
    "        values.pop(index)\n",
    "        weights.pop(index)\n",
    "\n",
    "    return items_taken\n",
    "\n"
   ]
  },
  {
   "cell_type": "code",
   "execution_count": 44,
   "metadata": {},
   "outputs": [
    {
     "name": "stdout",
     "output_type": "stream",
     "text": [
      "Total value achieved for greedy algorithm with 15 capacity is: 21\n"
     ]
    }
   ],
   "source": [
    "weights = [2, 8, 4, 5, 9]\n",
    "values = [6, 10, 9, 11, 8]\n",
    "k = 15\n",
    "ga_result = greedy_algorithm(k, weights, values)\n",
    "\n",
    "print(f\"Total value achieved for greedy algorithm with {k} capacity is: {sum([v[1] for v in ga_result])}\")"
   ]
  },
  {
   "cell_type": "code",
   "execution_count": 33,
   "metadata": {},
   "outputs": [
    {
     "data": {
      "text/plain": [
       "[60, 90, 89]"
      ]
     },
     "execution_count": 33,
     "metadata": {},
     "output_type": "execute_result"
    }
   ],
   "source": [
    "values\n"
   ]
  },
  {
   "cell_type": "code",
   "execution_count": 20,
   "metadata": {},
   "outputs": [
    {
     "data": {
      "text/plain": [
       "[[3, 110, 120], [1, 100, 100]]"
      ]
     },
     "execution_count": 20,
     "metadata": {},
     "output_type": "execute_result"
    }
   ],
   "source": [
    "ga_result"
   ]
  },
  {
   "cell_type": "code",
   "execution_count": 42,
   "metadata": {},
   "outputs": [],
   "source": [
    "def dynamic_solution(k, weights, values):\n",
    "\n",
    "    weight_range = range(0, k)\n",
    "    dp = np.zeros((len(weight_range), len(values)))\n",
    "    print(dp.shape)\n",
    "    for i in range(len(values)):\n",
    "        for w in range(len(weight_range)):\n",
    "            if i != 0:\n",
    "                if weights[i] > weight_range[w]:\n",
    "                    dp[w][i] = dp[w][i-1]\n",
    "                else:\n",
    "                    dp[w][i] = max(dp[w][i-1], dp[w-weights[i]][i-1] + values[i])\n",
    "            else:\n",
    "                if weights[i] < w:\n",
    "                    dp[w][i] = values[i]\n",
    "                else:\n",
    "                    dp[w][i] = 0\n",
    "\n",
    "\n",
    "    return dp\n"
   ]
  },
  {
   "cell_type": "code",
   "execution_count": 43,
   "metadata": {},
   "outputs": [
    {
     "name": "stdout",
     "output_type": "stream",
     "text": [
      "(15, 5)\n"
     ]
    },
    {
     "data": {
      "text/plain": [
       "array([[ 0.,  0.,  0.,  0.,  0.],\n",
       "       [ 0.,  0.,  0.,  0.,  0.],\n",
       "       [ 0.,  0.,  0.,  0.,  0.],\n",
       "       [ 6.,  6.,  6.,  6.,  6.],\n",
       "       [ 6.,  6.,  9.,  9.,  9.],\n",
       "       [ 6.,  6.,  9., 11., 11.],\n",
       "       [ 6.,  6.,  9., 11., 11.],\n",
       "       [ 6.,  6., 15., 15., 15.],\n",
       "       [ 6., 10., 15., 17., 17.],\n",
       "       [ 6., 10., 15., 20., 20.],\n",
       "       [ 6., 10., 15., 20., 20.],\n",
       "       [ 6., 16., 16., 20., 20.],\n",
       "       [ 6., 16., 19., 26., 26.],\n",
       "       [ 6., 16., 19., 26., 26.],\n",
       "       [ 6., 16., 19., 26., 26.]])"
      ]
     },
     "execution_count": 43,
     "metadata": {},
     "output_type": "execute_result"
    }
   ],
   "source": [
    "weights = [2, 8, 4, 5, 9]\n",
    "values = [6, 10, 9, 11, 8]\n",
    "k = 15\n",
    "\n",
    "dynamic_solution(k, weights, values)"
   ]
  }
 ],
 "metadata": {
  "kernelspec": {
   "display_name": "Python 3",
   "language": "python",
   "name": "python3"
  },
  "language_info": {
   "codemirror_mode": {
    "name": "ipython",
    "version": 3
   },
   "file_extension": ".py",
   "mimetype": "text/x-python",
   "name": "python",
   "nbconvert_exporter": "python",
   "pygments_lexer": "ipython3",
   "version": "3.11.8"
  }
 },
 "nbformat": 4,
 "nbformat_minor": 2
}
